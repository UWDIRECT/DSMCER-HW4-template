{
 "cells": [
  {
   "cell_type": "markdown",
   "metadata": {},
   "source": [
    "# DSMCER HW 4\n",
    "\n",
    "###  Please note carefully:\n",
    "- Any plots should be the highest quality possible and, in your judgement, ready for inclusion in a formal report or publication. This includes labeling, font sizes, etc.\n",
    "\n",
    "- While we encourage you to chat with eachother and work together, you should not be copying code.\n",
    "\n",
    "- Remember one of the biggest advantages of the python data stack - someone has probably written code for what you need to do. If you find yourself writing lines and lines of complex code here there is probably a better way, eg. a function written in numpy, scipy, pandas, seaborn etc."
   ]
  },
  {
   "cell_type": "markdown",
   "metadata": {},
   "source": [
    "***"
   ]
  },
  {
   "cell_type": "markdown",
   "metadata": {},
   "source": [
    "## Part 0 - Preparation (1 pt)\n",
    "\n",
    "- Load the HCEPDB dataset, randomly select 500,000 datapoints to act as your dataset\n",
    "- Your goal from this notebook will be to predict energy gap of a material __without having to synthesize it__. Drop the columns in the data you will not need.\n",
    "- Use the provided code to extract features for each molecule based on its smiles string alone. Notice that I have made the function raise an error when feature extraction fails. What will you do in this case? Handle this scenario however you deem suitable. Feel free to modify the code given if you would like, but it would be most pythonic to handle the error outside of the function.\n",
    "- Split the data randomly into a development set and a test set.\n",
    "\n",
    "_Note_: extracting features for all 500k examples can take ~15 minutes. It may be worth saving the results of Part 0 to file so that never have to run it again eg. if the kernel restarts."
   ]
  },
  {
   "cell_type": "code",
   "execution_count": 1,
   "metadata": {},
   "outputs": [],
   "source": [
    "import numpy as np\n",
    "import pandas as pd\n",
    "\n",
    "import rdkit.Chem\n",
    "import rdkit.Chem.Descriptors\n",
    "import rdkit.Chem.rdMolDescriptors\n",
    "import rdkit.ML.Descriptors.MoleculeDescriptors"
   ]
  },
  {
   "cell_type": "markdown",
   "metadata": {},
   "source": [
    "### Provided Code:"
   ]
  },
  {
   "cell_type": "code",
   "execution_count": 2,
   "metadata": {},
   "outputs": [],
   "source": [
    "features_to_extract = ['FractionCSP3', 'HeavyAtomCount', 'NHOHCount', 'NOCount', 'NumAliphaticCarbocycles', 'NumAliphaticHeterocycles', 'NumAliphaticRings', 'NumAromaticCarbocycles', 'NumAromaticHeterocycles', 'NumAromaticRings', 'NumHAcceptors', 'NumHDonors', 'NumHeteroatoms', 'NumRotatableBonds', 'NumSaturatedCarbocycles', 'NumSaturatedHeterocycles', 'NumSaturatedRings', 'RingCount', 'MolLogP', 'MolMR']\n",
    "feature_calculator = rdkit.ML.Descriptors.MoleculeDescriptors.MolecularDescriptorCalculator(features_to_extract)\n",
    "\n",
    "class BadSmilesException(Exception):\n",
    "    \"\"\"Indicates SMILES string not valid for desired features.\"\"\"\n",
    "    def __init__(self, smiles, *args):\n",
    "        super().__init__(args)\n",
    "        self.smiles = smiles\n",
    "\n",
    "    def __str__(self):\n",
    "        return f'SMILES: \"{self.smiles}\" invalid, could not compute features.'\n",
    "\n",
    "def extract_features_for_smiles(smiles_string: str):\n",
    "    \"\"\"Compute a feature vector for a molecule based on its molecular graph and rdkit.\n",
    "    \n",
    "    Parameters\n",
    "    ----------\n",
    "    smiles_string: str\n",
    "        Smiles connectivity of molecule\n",
    "        \n",
    "    Returns\n",
    "    -------\n",
    "    numpy row vector of featutes\n",
    "    \n",
    "    Exceptions\n",
    "    ----------\n",
    "    BadSmilesException : cannot compute features for this type of molecule\n",
    "    \"\"\"\n",
    "    if not type(smiles_string) == str:\n",
    "        raise ValueError(f\"Expecting `smiles_string` to be a string type, not {type(smiles_string)}\")\n",
    "    else:\n",
    "        pass\n",
    "    \n",
    "    mol = rdkit.Chem.MolFromSmiles(smiles_string)\n",
    "    descriptors = feature_calculator.CalcDescriptors(mol)\n",
    "    descriptors = np.array(descriptors).reshape(1,-1)\n",
    "    \n",
    "    if np.any(np.isclose(descriptors, -666)):\n",
    "        raise BadSmilesException(smiles_string)\n",
    "    else:\n",
    "        pass\n",
    "    return descriptors"
   ]
  },
  {
   "cell_type": "markdown",
   "metadata": {},
   "source": [
    "### Do part 0 here:"
   ]
  },
  {
   "cell_type": "code",
   "execution_count": null,
   "metadata": {},
   "outputs": [],
   "source": []
  },
  {
   "cell_type": "code",
   "execution_count": null,
   "metadata": {},
   "outputs": [],
   "source": []
  },
  {
   "cell_type": "markdown",
   "metadata": {},
   "source": [
    "***"
   ]
  },
  {
   "cell_type": "markdown",
   "metadata": {},
   "source": [
    "## Part 1 - Comment on feature extraction (1 pt)\n",
    "\n",
    "Feature engineering is composed of both extraction and selection. You had a little bit of practice on extraction in HW2, so I have done some extraction for you here using `rdkit`. You will need to do some selection in the rest of the notebook, but before that, an aside:\n",
    "\n",
    "__Write a few sentences__ describing how you might go about extracting features for a situtuation where your examples are something __other than a molecules__. What would some of your features be? Choose from one of the following:\n",
    "\n",
    "- Spectra from an instrument\n",
    "- Heat exchangers\n",
    "- Cells"
   ]
  },
  {
   "cell_type": "markdown",
   "metadata": {},
   "source": []
  },
  {
   "cell_type": "markdown",
   "metadata": {},
   "source": []
  },
  {
   "cell_type": "markdown",
   "metadata": {},
   "source": [
    "***"
   ]
  },
  {
   "cell_type": "markdown",
   "metadata": {},
   "source": [
    "## Part 2 - Feature selection (2 pt)\n",
    "\n",
    "#### a. From the features provided, arrive at a final set of features to give a ML model using feature selection techniques such as filtering, forward selection, etc. __Do not forget standardization__, without which most methods will be invalidated. \n",
    "#### b. Write a few sentences describing your choices. "
   ]
  },
  {
   "cell_type": "code",
   "execution_count": null,
   "metadata": {},
   "outputs": [],
   "source": []
  },
  {
   "cell_type": "code",
   "execution_count": null,
   "metadata": {},
   "outputs": [],
   "source": []
  },
  {
   "cell_type": "markdown",
   "metadata": {},
   "source": [
    "***"
   ]
  },
  {
   "cell_type": "markdown",
   "metadata": {},
   "source": [
    "## Part 3 - Architecture optimization (3 pt)\n",
    "\n",
    "#### a. Make an informed decision about a machine learning architecture to use to predict the energy gap. \n",
    "  - You may run some code to help you make this choice if you would like.\n",
    "  - You may also inform your decision by known aspects of the architecture and how that may or may not work with your system. \n",
    "\n",
    "One or both is sufficient so long as it is well thought out. Write a few sentences describing your process and which architecture you chose\n",
    "\n",
    "#### b. Choose __one__ hyperparameter associated with the chosen architecture to optimize. Use a validation scheme of your choice to determine what value the hyperparameter should be.\n",
    "\n",
    "Write a few senteces describing your process and why you made those choices. Report the approximate carbon cost of finding the best hyperparameter.\n",
    "\n",
    "#### c. With the chosen architecture and the identified best value of the hyperparameter, __train a new model on the entire development set__. Make prediction on the test set, and report its performance, and create a partity plot that shows the regression predictions."
   ]
  },
  {
   "cell_type": "code",
   "execution_count": null,
   "metadata": {},
   "outputs": [],
   "source": []
  },
  {
   "cell_type": "code",
   "execution_count": null,
   "metadata": {},
   "outputs": [],
   "source": []
  }
 ],
 "metadata": {
  "anaconda-cloud": {},
  "kernelspec": {
   "display_name": "Python 3 (ipykernel)",
   "language": "python",
   "name": "python3"
  },
  "language_info": {
   "codemirror_mode": {
    "name": "ipython",
    "version": 3
   },
   "file_extension": ".py",
   "mimetype": "text/x-python",
   "name": "python",
   "nbconvert_exporter": "python",
   "pygments_lexer": "ipython3",
   "version": "3.9.15"
  }
 },
 "nbformat": 4,
 "nbformat_minor": 4
}
